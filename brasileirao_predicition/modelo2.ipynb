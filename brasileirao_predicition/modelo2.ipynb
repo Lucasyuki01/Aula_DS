{
 "cells": [
  {
   "cell_type": "markdown",
   "metadata": {},
   "source": [
    "### Imports"
   ]
  },
  {
   "cell_type": "code",
   "execution_count": 14,
   "metadata": {},
   "outputs": [],
   "source": [
    "import pandas as pd\n",
    "import numpy as np\n",
    "import pickle\n",
    "from sklearn.model_selection import train_test_split, RandomizedSearchCV\n",
    "from sklearn.metrics import accuracy_score\n",
    "from sklearn.preprocessing import LabelEncoder\n",
    "from xgboost import XGBClassifier\n",
    "import matplotlib.pyplot as plt"
   ]
  },
  {
   "cell_type": "code",
   "execution_count": 15,
   "metadata": {},
   "outputs": [
    {
     "name": "stdout",
     "output_type": "stream",
     "text": [
      "Fitting 3 folds for each of 100 candidates, totalling 300 fits\n",
      "Melhores parâmetros: {'subsample': 0.7, 'n_estimators': 100, 'min_child_weight': 1, 'max_depth': 3, 'learning_rate': 0.01, 'gamma': 0.1, 'colsample_bytree': 0.9}\n",
      "Acurácia: 0.5017772511848341\n",
      "Modelo salvo como 'modelo_treinado.pkl'.\n"
     ]
    }
   ],
   "source": [
    "# Carregar dados\n",
    "data = pd.read_csv('C:\\\\Users\\\\Yuki\\\\Desktop\\\\github\\\\Aula_DS\\\\brasileirao_predicition\\\\data.csv')\n",
    "\n",
    "# Certifique-se de que as colunas 'gols_mandante' e 'gols_visitante' existem\n",
    "if 'gols_mandante' in data.columns and 'gols_visitante' in data.columns:\n",
    "    data['gols_marcados_mandante'] = data.groupby('time_mandante')['gols_mandante'].expanding().mean().shift().reset_index(level=0, drop=True)\n",
    "    data['gols_sofridos_mandante'] = data.groupby('time_mandante')['gols_visitante'].expanding().mean().shift().reset_index(level=0, drop=True)\n",
    "    data['gols_marcados_visitante'] = data.groupby('time_visitante')['gols_visitante'].expanding().mean().shift().reset_index(level=0, drop=True)\n",
    "    data['gols_sofridos_visitante'] = data.groupby('time_visitante')['gols_mandante'].expanding().mean().shift().reset_index(level=0, drop=True)\n",
    "    data['diferenca_gols_mandante'] = data.groupby('time_mandante')['gols_mandante'].cumsum() - data.groupby('time_mandante')['gols_visitante'].cumsum()\n",
    "    data['diferenca_gols_visitante'] = data.groupby('time_visitante')['gols_visitante'].cumsum() - data.groupby('time_visitante')['gols_mandante'].cumsum()\n",
    "\n",
    "# Convertendo colunas categóricas para códigos numéricos\n",
    "data['time_mandante'] = data['time_mandante'].astype('category').cat.codes\n",
    "data['time_visitante'] = data['time_visitante'].astype('category').cat.codes\n",
    "\n",
    "# Seleção de features e target\n",
    "features = ['ano_campeonato', 'rodada', 'time_mandante', 'time_visitante', 'publico', 'gols_marcados_mandante', 'gols_sofridos_mandante', 'gols_marcados_visitante', 'gols_sofridos_visitante', 'diferenca_gols_mandante', 'diferenca_gols_visitante']\n",
    "X = data[features]\n",
    "y = (data['gols_mandante'] > data['gols_visitante']).astype(int) - (data['gols_mandante'] < data['gols_visitante']).astype(int)\n",
    "\n",
    "# Mapeamento de y para classes 0, 1, 2\n",
    "y = y.map({-1: 0, 0: 1, 1: 2})\n",
    "\n",
    "# Divisão de dados\n",
    "X_train, X_test, y_train, y_test = train_test_split(X, y, test_size=0.2, random_state=42)\n",
    "\n",
    "# Definição do modelo e hiperparâmetros para RandomizedSearchCV\n",
    "model = XGBClassifier(eval_metric='mlogloss', enable_categorical=True)  # Habilitando suporte a dados categóricos\n",
    "param_grid = {\n",
    "    'max_depth': [3, 5, 7],\n",
    "    'n_estimators': [100, 150, 200],\n",
    "    'learning_rate': [0.01, 0.05, 0.1],\n",
    "    'gamma': [0, 0.1],\n",
    "    'min_child_weight': [1, 5],\n",
    "    'subsample': [0.7, 0.9], 'colsample_bytree': [0.7, 0.9] }\n",
    "\n",
    "# Configuração do RandomizedSearchCV\n",
    "random_search = RandomizedSearchCV(\n",
    "    model,\n",
    "    param_distributions=param_grid,\n",
    "    n_iter=100,  # Número de iterações\n",
    "    cv=3,  # Redução de folds de validação cruzada\n",
    "    verbose=1,\n",
    "    n_jobs=-1  # Uso de todos os núcleos da CPU\n",
    ")\n",
    "\n",
    "#Treinamento\n",
    "random_search.fit(X_train, y_train)\n",
    "\n",
    "# Melhores parâmetros e desempenho\n",
    "best_model = random_search.best_estimator_\n",
    "y_pred = best_model.predict(X_test)\n",
    "print(\"Melhores parâmetros:\", random_search.best_params_)\n",
    "print(\"Acurácia:\", accuracy_score(y_test, y_pred))\n",
    "\n",
    "# Salvamento do modelo\n",
    "with open('modelo_treinado.pkl', 'wb') as f:\n",
    "    pickle.dump(best_model, f)\n",
    "\n",
    "print(\"Modelo salvo como 'modelo_treinado.pkl'.\")"
   ]
  }
 ],
 "metadata": {
  "kernelspec": {
   "display_name": "Python 3",
   "language": "python",
   "name": "python3"
  },
  "language_info": {
   "codemirror_mode": {
    "name": "ipython",
    "version": 3
   },
   "file_extension": ".py",
   "mimetype": "text/x-python",
   "name": "python",
   "nbconvert_exporter": "python",
   "pygments_lexer": "ipython3",
   "version": "3.12.4"
  }
 },
 "nbformat": 4,
 "nbformat_minor": 2
}
