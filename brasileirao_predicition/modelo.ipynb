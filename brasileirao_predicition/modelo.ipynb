{
 "cells": [
  {
   "cell_type": "markdown",
   "metadata": {},
   "source": [
    "### Imports"
   ]
  },
  {
   "cell_type": "code",
   "execution_count": 12,
   "metadata": {},
   "outputs": [],
   "source": [
    "import pandas as pd\n",
    "from sklearn.model_selection import train_test_split, GridSearchCV\n",
    "from sklearn.metrics import accuracy_score\n",
    "from sklearn.preprocessing import LabelEncoder\n",
    "from xgboost import XGBClassifier"
   ]
  },
  {
   "cell_type": "code",
   "execution_count": 13,
   "metadata": {},
   "outputs": [],
   "source": [
    "# Carregar dados\n",
    "file_path = 'C:\\\\Users\\\\Yuki\\\\Desktop\\\\github\\\\Aula_DS\\\\brasileirao_predicition\\\\data.csv'\n",
    "data = pd.read_csv(file_path)"
   ]
  },
  {
   "cell_type": "code",
   "execution_count": 14,
   "metadata": {},
   "outputs": [],
   "source": [
    "# Ordenar os dados por data para garantir a sequência correta nos cálculos acumulados\n",
    "data.sort_values(by=['ano_campeonato', 'data'], inplace=True)\n",
    "\n",
    "# Calcular médias acumuladas e diferença de gols para cada time\n",
    "data['gols_marcados_mandante'] = data.groupby('time_mandante')['gols_mandante'].expanding().mean().shift().reset_index(level=0, drop=True)\n",
    "data['gols_sofridos_mandante'] = data.groupby('time_mandante')['gols_visitante'].expanding().mean().shift().reset_index(level=0, drop=True)\n",
    "data['gols_marcados_visitante'] = data.groupby('time_visitante')['gols_visitante'].expanding().mean().shift().reset_index(level=0, drop=True)\n",
    "data['gols_sofridos_visitante'] = data.groupby('time_visitante')['gols_mandante'].expanding().mean().shift().reset_index(level=0, drop=True)\n",
    "data['diferenca_gols_mandante'] = data.groupby('time_mandante')['gols_mandante'].expanding().sum().shift().reset_index(level=0, drop=True) \\\n",
    "                                 - data.groupby('time_mandante')['gols_visitante'].expanding().sum().shift().reset_index(level=0, drop=True)\n",
    "data['diferenca_gols_visitante'] = data.groupby('time_visitante')['gols_visitante'].expanding().sum().shift().reset_index(level=0, drop=True) \\\n",
    "                                  - data.groupby('time_visitante')['gols_mandante'].expanding().sum().shift().reset_index(level=0, drop=True)"
   ]
  },
  {
   "cell_type": "code",
   "execution_count": 15,
   "metadata": {},
   "outputs": [
    {
     "name": "stdout",
     "output_type": "stream",
     "text": [
      "Fitting 5 folds for each of 2916 candidates, totalling 14580 fits\n",
      "Melhores parâmetros: {'colsample_bytree': 0.6, 'gamma': 0, 'learning_rate': 0.01, 'max_depth': 9, 'min_child_weight': 10, 'n_estimators': 100, 'subsample': 0.8}\n",
      "Acurácia na validação: 0.5119047619047619\n"
     ]
    }
   ],
   "source": [
    "# Supondo a existência das colunas 'gols_mandante' e 'gols_visitante'\n",
    "data['resultado'] = (data['gols_mandante'] > data['gols_visitante']).astype(int) - \\\n",
    "                    (data['gols_mandante'] < data['gols_visitante']).astype(int)\n",
    "\n",
    "# Selecionando características relevantes\n",
    "# Lista de features para o modelo incluindo novas features\n",
    "features = ['ano_campeonato', 'rodada', 'time_mandante', 'time_visitante', 'publico',\n",
    "            'gols_marcados_mandante', 'gols_sofridos_mandante', 'gols_marcados_visitante',\n",
    "            'gols_sofridos_visitante', 'diferenca_gols_mandante', 'diferenca_gols_visitante']\n",
    "\n",
    "data_filtered = data[features + ['resultado']].dropna()\n",
    "\n",
    "# Convertendo times para categorias numéricas\n",
    "data_filtered['time_mandante'] = data_filtered['time_mandante'].astype('category').cat.codes\n",
    "data_filtered['time_visitante'] = data_filtered['time_visitante'].astype('category').cat.codes\n",
    "\n",
    "# Dividindo os dados\n",
    "train_data, remaining_data = train_test_split(data_filtered, train_size=0.65, random_state=42)\n",
    "validation_size = 0.15 / (1 - 0.65)  # Proporção do que sobrou após a divisão de treino\n",
    "validation_data, test_data = train_test_split(remaining_data, train_size=validation_size, random_state=42)\n",
    "\n",
    "# Preparando o target para o XGBoost\n",
    "le = LabelEncoder()\n",
    "y_train = le.fit_transform(train_data['resultado'])\n",
    "y_validation = le.transform(validation_data['resultado'])\n",
    "\n",
    "# Definindo o modelo XGBoost\n",
    "xgb_model = XGBClassifier(eval_metric='mlogloss')\n",
    "\n",
    "# Grid de parâmetros para o GridSearchCV\n",
    "param_grid = {\n",
    "    'max_depth': [3, 5, 7, 9],\n",
    "    'n_estimators': [100, 200, 300],\n",
    "    'learning_rate': [0.01, 0.05, 0.1],\n",
    "    'gamma': [0, 0.1, 0.2],\n",
    "    'min_child_weight': [1, 5, 10],\n",
    "    'subsample': [0.6, 0.8, 1.0],\n",
    "    'colsample_bytree': [0.6, 0.8, 1.0]\n",
    "}\n",
    "\n",
    "# Configurando o GridSearchCV apenas uma vez\n",
    "grid_search = GridSearchCV(\n",
    "    estimator=xgb_model,\n",
    "    param_grid=param_grid,\n",
    "    scoring='accuracy',\n",
    "    cv=5,\n",
    "    verbose=1\n",
    ")\n",
    "\n",
    "# Preparando dados de treino e validação\n",
    "X_train = train_data.drop('resultado', axis=1)\n",
    "y_train = le.fit_transform(train_data['resultado'])\n",
    "X_validation = validation_data.drop('resultado', axis=1)\n",
    "y_validation = le.transform(validation_data['resultado'])\n",
    "\n",
    "# Treinamento com GridSearchCV\n",
    "grid_search.fit(X_train, y_train)\n",
    "\n",
    "# Melhor modelo e validação\n",
    "best_xgb = grid_search.best_estimator_\n",
    "y_pred = best_xgb.predict(X_validation)\n",
    "validation_accuracy = accuracy_score(y_validation, y_pred)\n",
    "\n",
    "print(\"Melhores parâmetros:\", grid_search.best_params_)\n",
    "print(\"Acurácia na validação:\", validation_accuracy)"
   ]
  }
 ],
 "metadata": {
  "kernelspec": {
   "display_name": "Python 3",
   "language": "python",
   "name": "python3"
  },
  "language_info": {
   "codemirror_mode": {
    "name": "ipython",
    "version": 3
   },
   "file_extension": ".py",
   "mimetype": "text/x-python",
   "name": "python",
   "nbconvert_exporter": "python",
   "pygments_lexer": "ipython3",
   "version": "3.12.4"
  }
 },
 "nbformat": 4,
 "nbformat_minor": 2
}
